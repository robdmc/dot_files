{
 "cells": [
  {
   "cell_type": "code",
   "execution_count": 100,
   "metadata": {},
   "outputs": [],
   "source": [
    "import os\n",
    "import requests\n",
    "import re\n",
    "import math\n",
    "import easier as ezr\n",
    "import itertools\n",
    "import pandas as pd\n",
    "import copy\n",
    "from pprint import pprint\n",
    "import time\n",
    "import dataset\n",
    "%config Completer.use_jedi = False"
   ]
  },
  {
   "cell_type": "code",
   "execution_count": 92,
   "metadata": {},
   "outputs": [
    {
     "name": "stdout",
     "output_type": "stream",
     "text": [
      "{'url': 'https://api.github.com/gists/5a795e497e3ea6e9bf408a1635694067', 'description': 'Holoviews stacked area plot', 'created_at': '2021-01-21T00:57:58Z', 'updated_at': '2021-01-30T19:34:17Z', 'file': 'holoviews_stacked_area_chart.py', 'language': 'Python', 'file_url': 'https://gist.githubusercontent.com/robdmc/5a795e497e3ea6e9bf408a1635694067/raw/601076806b5f19f82beb6d0d0595d40666ee1b8d/holoviews_stacked_area_chart.py', 'size': 210, 'gist_id': '5a795e497e3ea6e9bf408a1635694067', 'code': ''}\n"
     ]
    }
   ],
   "source": [
    "class GithubBase:\n",
    "    BASE_URL = 'https://api.github.com/gists'\n",
    "    USER_URL = 'https://api.github.com/users/robdmc/gists'\n",
    "    REX_NEXT = re.compile(r'.*<(https.*?)>; rel=\"next\"')\n",
    "    PER_PAGE = 99\n",
    "#     PER_PAGE = 9\n",
    "    MAX_GISTS = 10_000\n",
    "    \n",
    "    LIST_TABLE = 'gist_list'\n",
    "    GIST_TABLE = 'gist_table'\n",
    "    \n",
    "    pkc = ezr.pickle_cache_state('active')\n",
    "\n",
    "    def __init__(self):\n",
    "        self.access_token = os.environ['GIST_TOKEN']\n",
    "\n",
    "    def blob_generator(self):\n",
    "        for page in range(int(math.ceil(self.MAX_GISTS / self.PER_PAGE))):\n",
    "            params = {\n",
    "                'per_page': self.PER_PAGE,\n",
    "                'page': page,\n",
    "            }\n",
    "            headers = {\n",
    "                'Authorization': f'token {self.access_token}',\n",
    "                'accept': 'application/vnd.github.v3+json'\n",
    "            }\n",
    "            resp = requests.get(self.USER_URL, params=params, headers=headers)\n",
    "            self.latest_resp = resp\n",
    "            blobs = resp.json()\n",
    "            if blobs:\n",
    "                yield blobs\n",
    "            else:\n",
    "                break\n",
    "                \n",
    "    def get_list(self):\n",
    "        rec_list = []\n",
    "        for ll in self.blob_generator():\n",
    "            rec_list.extend(ll)\n",
    "            \n",
    "        return rec_list\n",
    "    \n",
    "    @ezr.pickle_cached_container()\n",
    "    def ll(self):\n",
    "        return self.get_list()\n",
    "    \n",
    "    def get_parsed_blob_list(self):\n",
    "        keys = [\n",
    "            'url',\n",
    "            'id',\n",
    "            'description',\n",
    "            'created_at',\n",
    "            'updated_at',\n",
    "\n",
    "        ]\n",
    "        records = []\n",
    "        \n",
    "        # for item in self.blob_generator():\n",
    "        for item in self.ll[:5]:\n",
    "            record_template = {k: item[k] for k in keys}\n",
    "            for file in item['files'].values():\n",
    "                record = record_template.copy()\n",
    "                record['file'] = file['filename']\n",
    "                record['language'] = file.get('language', 'unkown')\n",
    "                record['file_url'] = file['raw_url']\n",
    "                record['size'] = file.get('size', 0)\n",
    "                record['gist_id'] = record.pop('id')\n",
    "                record['code'] = ''\n",
    "                records.append(record)\n",
    "                \n",
    "        dedup = {r['file_url']: r for r in records}\n",
    "        records = list(dedup.values())\n",
    "                \n",
    "                \n",
    "        return records\n",
    "\n",
    "\n",
    "\n",
    "gh = GithubBase()\n",
    "recs = gh.get_parsed_blob_list()\n",
    "print(recs[0])"
   ]
  },
  {
   "cell_type": "code",
   "execution_count": 117,
   "metadata": {},
   "outputs": [
    {
     "name": "stderr",
     "output_type": "stream",
     "text": [
      "100%|██████████| 6/6 [00:01<00:00,  4.45it/s]\n"
     ]
    }
   ],
   "source": [
    "db = dataset.connect('sqlite:///:memory:')\n",
    "list_table_name = 'list_table'\n",
    "code_table_name = 'code_table'\n",
    "\n",
    "def populate_list(recs, print=False):\n",
    "    table = db[list_table_name]\n",
    "    table.drop()\n",
    "    table.insert_many(recs)\n",
    "    \n",
    "\n",
    "# def populate_code(recs):\n",
    "#     list_table = db[list_table_name]\n",
    "#     code_table = db[code_table_name]\n",
    "#     input_file_urls = {r['file_url'] for r in recs}\n",
    "#     existing_file_url_lookup = {r['file_url']: r for r in list_table.all()}\n",
    "#     existing_file_urls = set(existing_file_url_lookup.keys())\n",
    "    \n",
    "#     new_file_urls = input_file_urls - existing_file_urls\n",
    "#     dead_file_urls = existing_file_urls - input_file_urls\n",
    "    \n",
    "#     dead_file_url_ids = [existing_file_url_lookup[url]['id'] for url in dead_file_urls]\n",
    "    \n",
    "#     for dead_id in dead_file_url_ids:\n",
    "#         code_table.delete(id=dead_id)\n",
    "    \n",
    "    \n",
    "# #     print(new_file_urls)\n",
    "#     print(new_file_urls, dead_file_urls, dead_file_url_ids)\n",
    "\n",
    "\n",
    "def get_lookup_dict(table):\n",
    "    return {r['file_url']: r for r in table.all()}\n",
    "\n",
    "def get_code(url):\n",
    "    resp = requests.get(url)\n",
    "    if resp.status_code == 200:\n",
    "        return resp.text\n",
    "    else:\n",
    "        return None\n",
    "    \n",
    "def update_code_table(verbose=True):\n",
    "    list_table = db[list_table_name]\n",
    "    code_table = db[code_table_name]\n",
    "    \n",
    "    code_lookup = get_lookup_dict(code_table)\n",
    "    list_lookup = get_lookup_dict(list_table)\n",
    "    \n",
    "    missing_file_urls = set(list_lookup.keys()) - set(code_lookup.keys())\n",
    "    deleted_file_urls = set(code_lookup.keys()) - set(list_lookup.keys())\n",
    "    \n",
    "    code_table.delete(file_url={'in': tuple(deleted_file_urls)})\n",
    "    \n",
    "    if not missing_file_urls:\n",
    "        return\n",
    "    \n",
    "    if verbose:\n",
    "        missing_file_urls = tqdm(missing_file_urls)\n",
    "    \n",
    "    for file_url in missing_file_urls:\n",
    "        code = get_code(file_url)\n",
    "        code_table.insert(dict(file_url=file_url, code=code))\n",
    "        time.sleep(.1)\n",
    "        \n",
    "    code_table.create_index('file_url')\n",
    "    \n",
    "    \n",
    "    \n",
    "populate_list(recs)\n",
    "\n",
    "new_recs = copy.deepcopy(recs[:-1])\n",
    "new_recs[0]['file_url'] = 'lucy'\n",
    "update_code_table()\n",
    "update_code_table()\n"
   ]
  },
  {
   "cell_type": "code",
   "execution_count": 114,
   "metadata": {},
   "outputs": [
    {
     "name": "stdout",
     "output_type": "stream",
     "text": [
      "c_list = []\n",
      "for col in df.columns[1:]:\n",
      "    c = hv.Area((df.date, df[col]/1e6), 'Date', 'Active Pipeline ($M)', label=col).opts(color=hv.Cycle('Set1'))\n",
      "    c_list.append(c)\n",
      "    \n",
      "hv.Area.stack(hv.Overlay(c_list))\n"
     ]
    }
   ],
   "source": [
    "print(db['code_table'].find_one()['code'])"
   ]
  },
  {
   "cell_type": "code",
   "execution_count": 103,
   "metadata": {},
   "outputs": [
    {
     "data": {
      "text/plain": [
       "[OrderedDict([('file_url',\n",
       "               'https://gist.githubusercontent.com/robdmc/32275939f121fc7f5661967cc321527f/raw/ea33d1ad4792a6af74e1d100071195cebca4cf4c/altair_plotting_example.py')]),\n",
       " OrderedDict([('file_url',\n",
       "               'https://gist.githubusercontent.com/robdmc/3f82bc492e87a1d5955e43250b32051c/raw/01f3ef69e4d9c3769ea2cd45951dabb69650a284/networkx_plot_graphviz.py')]),\n",
       " OrderedDict([('file_url',\n",
       "               'https://gist.githubusercontent.com/robdmc/45cc1644d15c70aedf7b432d7ade825d/raw/cefbc40549b6fb2b23a1baf962a16f73ec41e66b/holoviews_color_cycle_color_names.py')]),\n",
       " OrderedDict([('file_url',\n",
       "               'https://gist.githubusercontent.com/robdmc/5a795e497e3ea6e9bf408a1635694067/raw/601076806b5f19f82beb6d0d0595d40666ee1b8d/holoviews_stacked_area_chart.py')]),\n",
       " OrderedDict([('file_url',\n",
       "               'https://gist.githubusercontent.com/robdmc/5a795e497e3ea6e9bf408a1635694067/raw/81f87b8d96081415c4fc1bec9bc27cd063ff24cc/readme.md')]),\n",
       " OrderedDict([('file_url',\n",
       "               'https://gist.githubusercontent.com/robdmc/611b57470ca1522c4f3c496a7c967a84/raw/cb7e9a75c640e1c9b0c3bb39a2f6beda40b6f327/monstrous_visidatarc.py')])]"
      ]
     },
     "execution_count": 103,
     "metadata": {},
     "output_type": "execute_result"
    }
   ],
   "source": [
    "list(db['code_table'].distinct('file_url'))"
   ]
  },
  {
   "cell_type": "code",
   "execution_count": 95,
   "metadata": {},
   "outputs": [
    {
     "data": {
      "text/html": [
       "<div>\n",
       "<style scoped>\n",
       "    .dataframe tbody tr th:only-of-type {\n",
       "        vertical-align: middle;\n",
       "    }\n",
       "\n",
       "    .dataframe tbody tr th {\n",
       "        vertical-align: top;\n",
       "    }\n",
       "\n",
       "    .dataframe thead th {\n",
       "        text-align: right;\n",
       "    }\n",
       "</style>\n",
       "<table border=\"1\" class=\"dataframe\">\n",
       "  <thead>\n",
       "    <tr style=\"text-align: right;\">\n",
       "      <th></th>\n",
       "      <th>url</th>\n",
       "      <th>description</th>\n",
       "      <th>created_at</th>\n",
       "      <th>updated_at</th>\n",
       "      <th>file</th>\n",
       "      <th>language</th>\n",
       "      <th>file_url</th>\n",
       "      <th>size</th>\n",
       "      <th>gist_id</th>\n",
       "      <th>code</th>\n",
       "    </tr>\n",
       "  </thead>\n",
       "  <tbody>\n",
       "    <tr>\n",
       "      <th>13</th>\n",
       "      <td>https://api.github.com/gists/5b47c50811f0118bf...</td>\n",
       "      <td>Script to debug ambition</td>\n",
       "      <td>2019-10-08T15:22:00Z</td>\n",
       "      <td>2019-10-08T15:22:00Z</td>\n",
       "      <td>ambition_debug_doit_script.py</td>\n",
       "      <td>Python</td>\n",
       "      <td>https://gist.githubusercontent.com/robdmc/5b47...</td>\n",
       "      <td>281</td>\n",
       "      <td>5b47c50811f0118bfd00cdfaef44e141</td>\n",
       "      <td></td>\n",
       "    </tr>\n",
       "    <tr>\n",
       "      <th>105</th>\n",
       "      <td>https://api.github.com/gists/5b47c50811f0118bf...</td>\n",
       "      <td>Script to debug ambition</td>\n",
       "      <td>2019-10-08T15:22:00Z</td>\n",
       "      <td>2019-10-08T15:22:00Z</td>\n",
       "      <td>ambition_debug_doit_script.py</td>\n",
       "      <td>Python</td>\n",
       "      <td>https://gist.githubusercontent.com/robdmc/5b47...</td>\n",
       "      <td>281</td>\n",
       "      <td>5b47c50811f0118bfd00cdfaef44e141</td>\n",
       "      <td></td>\n",
       "    </tr>\n",
       "  </tbody>\n",
       "</table>\n",
       "</div>"
      ],
      "text/plain": [
       "                                                   url  \\\n",
       "13   https://api.github.com/gists/5b47c50811f0118bf...   \n",
       "105  https://api.github.com/gists/5b47c50811f0118bf...   \n",
       "\n",
       "                  description            created_at            updated_at  \\\n",
       "13   Script to debug ambition  2019-10-08T15:22:00Z  2019-10-08T15:22:00Z   \n",
       "105  Script to debug ambition  2019-10-08T15:22:00Z  2019-10-08T15:22:00Z   \n",
       "\n",
       "                              file language  \\\n",
       "13   ambition_debug_doit_script.py   Python   \n",
       "105  ambition_debug_doit_script.py   Python   \n",
       "\n",
       "                                              file_url  size  \\\n",
       "13   https://gist.githubusercontent.com/robdmc/5b47...   281   \n",
       "105  https://gist.githubusercontent.com/robdmc/5b47...   281   \n",
       "\n",
       "                              gist_id code  \n",
       "13   5b47c50811f0118bfd00cdfaef44e141       \n",
       "105  5b47c50811f0118bfd00cdfaef44e141       "
      ]
     },
     "execution_count": 95,
     "metadata": {},
     "output_type": "execute_result"
    }
   ],
   "source": [
    "df[df.file_url == 'https://gist.githubusercontent.com/robdmc/5b47c50811f0118bfd00cdfaef44e141/raw/8340a1d66084e1753883c98ba09e754ef4393127/ambition_debug_doit_script.py']"
   ]
  },
  {
   "cell_type": "code",
   "execution_count": null,
   "metadata": {},
   "outputs": [],
   "source": []
  },
  {
   "cell_type": "code",
   "execution_count": 96,
   "metadata": {},
   "outputs": [
    {
     "data": {
      "text/plain": [
       "OrderedDict([('id', 1),\n",
       "             ('url',\n",
       "              'https://api.github.com/gists/5a795e497e3ea6e9bf408a1635694067'),\n",
       "             ('description', 'Holoviews stacked area plot'),\n",
       "             ('created_at', '2021-01-21T00:57:58Z'),\n",
       "             ('updated_at', '2021-01-30T19:34:17Z'),\n",
       "             ('file', 'holoviews_stacked_area_chart.py'),\n",
       "             ('language', 'Python'),\n",
       "             ('file_url',\n",
       "              'https://gist.githubusercontent.com/robdmc/5a795e497e3ea6e9bf408a1635694067/raw/601076806b5f19f82beb6d0d0595d40666ee1b8d/holoviews_stacked_area_chart.py'),\n",
       "             ('size', 210),\n",
       "             ('gist_id', '5a795e497e3ea6e9bf408a1635694067'),\n",
       "             ('code', '')])"
      ]
     },
     "execution_count": 96,
     "metadata": {},
     "output_type": "execute_result"
    }
   ],
   "source": [
    "\n",
    "db = dataset.connect('sqlite:///:memory:')\n",
    "table_name = 'rob'\n",
    "table = db[table_name]\n",
    "table.drop()\n",
    "table.insert_many(recs)\n",
    "table.find_one()"
   ]
  },
  {
   "cell_type": "code",
   "execution_count": 42,
   "metadata": {},
   "outputs": [],
   "source": [
    "existing_file_urls = {r['file_url'] for r in table.all()}\n",
    "new_file_urls = {r['file_url'] for r in new_recs}"
   ]
  },
  {
   "cell_type": "code",
   "execution_count": 43,
   "metadata": {},
   "outputs": [
    {
     "data": {
      "text/plain": [
       "({'lucy'}, set())"
      ]
     },
     "execution_count": 43,
     "metadata": {},
     "output_type": "execute_result"
    }
   ],
   "source": [
    "to_upsert = new_file_urls - existing_file_urls\n",
    "to_delete = existing_file_urls - new_file_urls\n",
    "to_upsert, to_delete"
   ]
  },
  {
   "cell_type": "code",
   "execution_count": 38,
   "metadata": {},
   "outputs": [
    {
     "data": {
      "text/plain": [
       "(92, 93)"
      ]
     },
     "execution_count": 38,
     "metadata": {},
     "output_type": "execute_result"
    }
   ],
   "source": [
    "len(existing_file_urls), len(new_file_urls)"
   ]
  },
  {
   "cell_type": "code",
   "execution_count": 20,
   "metadata": {},
   "outputs": [],
   "source": [
    "table_name = 'rob'\n",
    "table = db[table_name]\n",
    "\n",
    "def get_key(r):\n",
    "    return (r['gist_id'], r['file'])\n",
    "\n",
    "existing_rec_lookup = {get_key(r): r for r in table.all()}\n"
   ]
  },
  {
   "cell_type": "code",
   "execution_count": 21,
   "metadata": {},
   "outputs": [],
   "source": [
    "to_upsert = []\n",
    "\n",
    "class Sentinal:\n",
    "    pass\n",
    "\n",
    "for new_rec in new_recs:\n",
    "    if existing_rec_lookup.get(get_key(new_rec), {'file_url': Sentinal()})['file_url'] != new_rec['file_url']:\n",
    "        to_upsert.append(new_rec)\n",
    "    \n",
    "    "
   ]
  },
  {
   "cell_type": "code",
   "execution_count": 22,
   "metadata": {},
   "outputs": [
    {
     "data": {
      "text/plain": [
       "[{'url': 'https://api.github.com/gists/5a795e497e3ea6e9bf408a1635694067',\n",
       "  'description': 'Holoviews stacked area plot',\n",
       "  'created_at': '2021-01-21T00:57:58Z',\n",
       "  'updated_at': '2021-01-21T00:57:59Z',\n",
       "  'file': 'holoviews_stacked_area_chart.py',\n",
       "  'language': 'Python',\n",
       "  'file_url': 'lucy',\n",
       "  'size': 210,\n",
       "  'gist_id': '5a795e497e3ea6e9bf408a1635694067'}]"
      ]
     },
     "execution_count": 22,
     "metadata": {},
     "output_type": "execute_result"
    }
   ],
   "source": [
    "to_upsert"
   ]
  },
  {
   "cell_type": "code",
   "execution_count": null,
   "metadata": {},
   "outputs": [],
   "source": [
    "existing_recs.p"
   ]
  },
  {
   "cell_type": "code",
   "execution_count": null,
   "metadata": {},
   "outputs": [],
   "source": []
  },
  {
   "cell_type": "code",
   "execution_count": 50,
   "metadata": {},
   "outputs": [
    {
     "data": {
      "text/plain": [
       "{'url': 'https://api.github.com/gists/0b97398a4e6950ce6928',\n",
       " 'id': '0b97398a4e6950ce6928',\n",
       " 'description': 'values_list_queryset_chunker',\n",
       " 'created_at': '2015-03-23T20:16:55Z',\n",
       " 'updated_at': '2015-08-29T14:17:39Z',\n",
       " 'file': 'values_list_queryset_chunker.py',\n",
       " 'language': 'Python',\n",
       " 'file_url': 'https://gist.githubusercontent.com/robdmc/0b97398a4e6950ce6928/raw/72420c59954202d22a2976d8b873cb08c2dd6a8f/values_list_queryset_chunker.py',\n",
       " 'size': '518'}"
      ]
     },
     "execution_count": 50,
     "metadata": {},
     "output_type": "execute_result"
    }
   ],
   "source": [
    "rec"
   ]
  },
  {
   "cell_type": "code",
   "execution_count": 18,
   "metadata": {},
   "outputs": [],
   "source": [
    "from pony import orm"
   ]
  },
  {
   "cell_type": "code",
   "execution_count": null,
   "metadata": {},
   "outputs": [],
   "source": []
  },
  {
   "cell_type": "code",
   "execution_count": 20,
   "metadata": {},
   "outputs": [],
   "source": [
    "db = orm.Database()\n",
    "db.bind(provider='sqlite', filename=':memory:')\n",
    "\n",
    "class Entry(db.Entity):\n",
    "    gist_url = orm.Required(str)\n",
    "    gist_id = orm.Required(str)\n",
    "    gist_description = orm.Required(str)\n",
    "    \n",
    "    pass"
   ]
  },
  {
   "cell_type": "code",
   "execution_count": null,
   "metadata": {},
   "outputs": [],
   "source": []
  },
  {
   "cell_type": "code",
   "execution_count": null,
   "metadata": {},
   "outputs": [],
   "source": []
  },
  {
   "cell_type": "code",
   "execution_count": null,
   "metadata": {},
   "outputs": [],
   "source": []
  },
  {
   "cell_type": "code",
   "execution_count": null,
   "metadata": {},
   "outputs": [],
   "source": []
  },
  {
   "cell_type": "code",
   "execution_count": null,
   "metadata": {},
   "outputs": [],
   "source": []
  },
  {
   "cell_type": "code",
   "execution_count": 10,
   "metadata": {},
   "outputs": [],
   "source": [
    "import json\n",
    "with open('/tmp/ghblob.json', 'w') as buff:\n",
    "    json.dump(gh.ll, buff, indent=2)\n",
    "\n"
   ]
  },
  {
   "cell_type": "code",
   "execution_count": 13,
   "metadata": {},
   "outputs": [],
   "source": [
    "xxx = requests.get('https://gist.githubusercontent.com/robdmc/5a795e497e3ea6e9bf408a1635694067/raw/601076806b5f19f82beb6d0d0595d40666ee1b8d/holoviews_stacked_area_chart.py')"
   ]
  },
  {
   "cell_type": "code",
   "execution_count": 17,
   "metadata": {},
   "outputs": [
    {
     "name": "stdout",
     "output_type": "stream",
     "text": [
      "c_list = []\n",
      "for col in df.columns[1:]:\n",
      "    c = hv.Area((df.date, df[col]/1e6), 'Date', 'Active Pipeline ($M)', label=col).opts(color=hv.Cycle('Set1'))\n",
      "    c_list.append(c)\n",
      "    \n",
      "hv.Area.stack(hv.Overlay(c_list))\n"
     ]
    }
   ],
   "source": [
    "print(xxx.text)"
   ]
  },
  {
   "cell_type": "code",
   "execution_count": 11,
   "metadata": {},
   "outputs": [
    {
     "data": {
      "text/plain": [
       "requests.structures.CaseInsensitiveDict"
      ]
     },
     "execution_count": 11,
     "metadata": {},
     "output_type": "execute_result"
    }
   ],
   "source": [
    "type(resp.headers)"
   ]
  },
  {
   "cell_type": "code",
   "execution_count": null,
   "metadata": {},
   "outputs": [],
   "source": []
  },
  {
   "cell_type": "code",
   "execution_count": 37,
   "metadata": {},
   "outputs": [
    {
     "data": {
      "text/plain": [
       "{'url': 'https://api.github.com/gists/611b57470ca1522c4f3c496a7c967a84',\n",
       " 'description': 'Visidata Monstrosity',\n",
       " 'created_at': '2021-01-17T17:14:45Z',\n",
       " 'updated_at': '2021-01-17T19:55:10Z',\n",
       " 'file': 'monstrous_visidatarc.py',\n",
       " 'language': 'Python',\n",
       " 'file_url': 'https://gist.githubusercontent.com/robdmc/611b57470ca1522c4f3c496a7c967a84/raw/cb7e9a75c640e1c9b0c3bb39a2f6beda40b6f327/monstrous_visidatarc.py',\n",
       " 'size': 1999}"
      ]
     },
     "execution_count": 37,
     "metadata": {},
     "output_type": "execute_result"
    }
   ],
   "source": [
    "blob = resp.json()\n",
    "\n",
    "keys = [\n",
    "    'url',\n",
    "    'description',\n",
    "    'created_at',\n",
    "    'updated_at',\n",
    "    \n",
    "]\n",
    "records = []\n",
    "for item in blob:\n",
    "    record_template = {k: item[k] for k in keys}\n",
    "    for file in item['files'].values():\n",
    "        record = record_template.copy()\n",
    "#         print(file)\n",
    "        record['file'] = file['filename']\n",
    "        record['language'] = file.get('language', 'unkown')\n",
    "        record['file_url'] = file['raw_url']\n",
    "        record['size'] = file.get('size', 0)\n",
    "        records.append(record)\n",
    "#     pprint(item)\n",
    "\n",
    "rec = records[0]\n",
    "rec\n"
   ]
  },
  {
   "cell_type": "code",
   "execution_count": 16,
   "metadata": {},
   "outputs": [
    {
     "data": {
      "text/plain": [
       "{'url': 'https://api.github.com/gists/611b57470ca1522c4f3c496a7c967a84',\n",
       " 'forks_url': 'https://api.github.com/gists/611b57470ca1522c4f3c496a7c967a84/forks',\n",
       " 'commits_url': 'https://api.github.com/gists/611b57470ca1522c4f3c496a7c967a84/commits',\n",
       " 'id': '611b57470ca1522c4f3c496a7c967a84',\n",
       " 'node_id': 'MDQ6R2lzdDYxMWI1NzQ3MGNhMTUyMmM0ZjNjNDk2YTdjOTY3YTg0',\n",
       " 'git_pull_url': 'https://gist.github.com/611b57470ca1522c4f3c496a7c967a84.git',\n",
       " 'git_push_url': 'https://gist.github.com/611b57470ca1522c4f3c496a7c967a84.git',\n",
       " 'html_url': 'https://gist.github.com/611b57470ca1522c4f3c496a7c967a84',\n",
       " 'files': {'monstrous_visidatarc.py': {'filename': 'monstrous_visidatarc.py',\n",
       "   'type': 'application/x-python',\n",
       "   'language': 'Python',\n",
       "   'raw_url': 'https://gist.githubusercontent.com/robdmc/611b57470ca1522c4f3c496a7c967a84/raw/cb7e9a75c640e1c9b0c3bb39a2f6beda40b6f327/monstrous_visidatarc.py',\n",
       "   'size': 1999}},\n",
       " 'public': True,\n",
       " 'created_at': '2021-01-17T17:14:45Z',\n",
       " 'updated_at': '2021-01-17T19:55:10Z',\n",
       " 'description': 'Visidata Monstrosity',\n",
       " 'comments': 1,\n",
       " 'user': None,\n",
       " 'comments_url': 'https://api.github.com/gists/611b57470ca1522c4f3c496a7c967a84/comments',\n",
       " 'owner': {'login': 'robdmc',\n",
       "  'id': 417837,\n",
       "  'node_id': 'MDQ6VXNlcjQxNzgzNw==',\n",
       "  'avatar_url': 'https://avatars2.githubusercontent.com/u/417837?v=4',\n",
       "  'gravatar_id': '',\n",
       "  'url': 'https://api.github.com/users/robdmc',\n",
       "  'html_url': 'https://github.com/robdmc',\n",
       "  'followers_url': 'https://api.github.com/users/robdmc/followers',\n",
       "  'following_url': 'https://api.github.com/users/robdmc/following{/other_user}',\n",
       "  'gists_url': 'https://api.github.com/users/robdmc/gists{/gist_id}',\n",
       "  'starred_url': 'https://api.github.com/users/robdmc/starred{/owner}{/repo}',\n",
       "  'subscriptions_url': 'https://api.github.com/users/robdmc/subscriptions',\n",
       "  'organizations_url': 'https://api.github.com/users/robdmc/orgs',\n",
       "  'repos_url': 'https://api.github.com/users/robdmc/repos',\n",
       "  'events_url': 'https://api.github.com/users/robdmc/events{/privacy}',\n",
       "  'received_events_url': 'https://api.github.com/users/robdmc/received_events',\n",
       "  'type': 'User',\n",
       "  'site_admin': False},\n",
       " 'truncated': False}"
      ]
     },
     "execution_count": 16,
     "metadata": {},
     "output_type": "execute_result"
    }
   ],
   "source": [
    "blob[0]"
   ]
  },
  {
   "cell_type": "code",
   "execution_count": 2,
   "metadata": {},
   "outputs": [],
   "source": [
    "from visidata import SequenceSheet, BaseSheet, Path, Column, asyncthread, TableSheet\n",
    "from visidata import vd\n"
   ]
  },
  {
   "cell_type": "code",
   "execution_count": null,
   "metadata": {},
   "outputs": [],
   "source": []
  },
  {
   "cell_type": "code",
   "execution_count": null,
   "metadata": {},
   "outputs": [],
   "source": []
  },
  {
   "cell_type": "code",
   "execution_count": null,
   "metadata": {},
   "outputs": [],
   "source": []
  },
  {
   "cell_type": "code",
   "execution_count": 3,
   "metadata": {},
   "outputs": [],
   "source": [
    "\n",
    "# def rowtype(*args, **kwargs):\n",
    "class RobSheet(TableSheet):\n",
    "    _rowtype = object  # rowdef: list of values\n",
    "\n",
    "    \n",
    "\n",
    "    def iterload(self):\n",
    "        for nn in range(3):\n",
    "            yield  [nn, nn, nn]\n",
    "\n",
    "    #     @asyncthread\n",
    "    def reload(self):\n",
    "        self.columns = []\n",
    "        for col in ['a', 'b', 'c']:\n",
    "            self.addColumn(Column(col))\n",
    "        \n",
    "        self.rows = []\n",
    "        for row in self.iterload():\n",
    "            self.addRow(row)\n",
    "            \n",
    "        "
   ]
  },
  {
   "cell_type": "code",
   "execution_count": 4,
   "metadata": {},
   "outputs": [],
   "source": [
    "rs = RobSheet()\n",
    "t = rs.reload()\n",
    "\n",
    "# for col in rs.it:\n",
    "#     print(repr(col))\n"
   ]
  },
  {
   "cell_type": "code",
   "execution_count": 5,
   "metadata": {},
   "outputs": [
    {
     "name": "stdout",
     "output_type": "stream",
     "text": [
      "a\n",
      "b\n",
      "c\n"
     ]
    }
   ],
   "source": [
    "for col in rs.columns:\n",
    "    print(col.name)"
   ]
  },
  {
   "cell_type": "code",
   "execution_count": 6,
   "metadata": {},
   "outputs": [
    {
     "name": "stdout",
     "output_type": "stream",
     "text": [
      "a [0, 0, 0] <class 'list'>\n",
      "b [0, 0, 0] <class 'list'>\n",
      "c [0, 0, 0] <class 'list'>\n",
      "a [1, 1, 1] <class 'list'>\n",
      "b [1, 1, 1] <class 'list'>\n",
      "c [1, 1, 1] <class 'list'>\n",
      "a [2, 2, 2] <class 'list'>\n",
      "b [2, 2, 2] <class 'list'>\n",
      "c [2, 2, 2] <class 'list'>\n"
     ]
    }
   ],
   "source": [
    "for typedvals in rs.iterdispvals(format=False):\n",
    "\n",
    "    for col, val in typedvals.items():\n",
    "        print(col.name, val, type(val))"
   ]
  },
  {
   "cell_type": "code",
   "execution_count": 154,
   "metadata": {},
   "outputs": [],
   "source": [
    "vd.save_csv(Path('/tmp/jerry.csv'), rs)"
   ]
  },
  {
   "cell_type": "code",
   "execution_count": 161,
   "metadata": {},
   "outputs": [],
   "source": [
    "nr = rs.newRow()"
   ]
  },
  {
   "cell_type": "code",
   "execution_count": 162,
   "metadata": {},
   "outputs": [
    {
     "ename": "TypeError",
     "evalue": "unhashable type: 'list'",
     "output_type": "error",
     "traceback": [
      "\u001b[0;31m---------------------------------------------------------------------------\u001b[0m",
      "\u001b[0;31mTypeError\u001b[0m                                 Traceback (most recent call last)",
      "\u001b[0;32m<ipython-input-162-3554923aac7e>\u001b[0m in \u001b[0;36m<module>\u001b[0;34m\u001b[0m\n\u001b[0;32m----> 1\u001b[0;31m \u001b[0mnr\u001b[0m\u001b[0;34m[\u001b[0m\u001b[0;34m[\u001b[0m\u001b[0;34m'a'\u001b[0m\u001b[0;34m,\u001b[0m \u001b[0;34m'b'\u001b[0m\u001b[0;34m]\u001b[0m\u001b[0;34m]\u001b[0m\u001b[0;34m\u001b[0m\u001b[0;34m\u001b[0m\u001b[0m\n\u001b[0m",
      "\u001b[0;31mTypeError\u001b[0m: unhashable type: 'list'"
     ]
    }
   ],
   "source": [
    "nr[['a', 'b']]"
   ]
  },
  {
   "cell_type": "code",
   "execution_count": 160,
   "metadata": {},
   "outputs": [
    {
     "data": {
      "text/plain": [
       "BasicRow(<function visidata.sheets.BasicRow.__init__.<locals>.<lambda>()>,\n",
       "         {'rob': None})"
      ]
     },
     "execution_count": 160,
     "metadata": {},
     "output_type": "execute_result"
    }
   ],
   "source": [
    "nr"
   ]
  },
  {
   "cell_type": "code",
   "execution_count": null,
   "metadata": {},
   "outputs": [],
   "source": []
  }
 ],
 "metadata": {
  "kernelspec": {
   "display_name": "Python 3",
   "language": "python",
   "name": "python3"
  },
  "language_info": {
   "codemirror_mode": {
    "name": "ipython",
    "version": 3
   },
   "file_extension": ".py",
   "mimetype": "text/x-python",
   "name": "python",
   "nbconvert_exporter": "python",
   "pygments_lexer": "ipython3",
   "version": "3.8.6"
  }
 },
 "nbformat": 4,
 "nbformat_minor": 4
}
