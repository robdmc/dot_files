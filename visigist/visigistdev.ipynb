{
 "cells": [
  {
   "cell_type": "code",
   "execution_count": 1,
   "metadata": {},
   "outputs": [],
   "source": [
    "import os\n",
    "import requests\n",
    "import re\n",
    "import math\n",
    "import easier as ezr\n",
    "import itertools\n",
    "from pprint import pprint\n",
    "%config Completer.use_jedi = False"
   ]
  },
  {
   "cell_type": "code",
   "execution_count": 5,
   "metadata": {},
   "outputs": [
    {
     "name": "stdout",
     "output_type": "stream",
     "text": [
      "<class 'list'>\n",
      "3\n"
     ]
    }
   ],
   "source": [
    "class GithubBase:\n",
    "    BASE_URL = 'https://api.github.com/gists'\n",
    "    USER_URL = 'https://api.github.com/users/robdmc/gists'\n",
    "    REX_NEXT = re.compile(r'.*<(https.*?)>; rel=\"next\"')\n",
    "    PER_PAGE = 99\n",
    "#     PER_PAGE = 9\n",
    "    MAX_GISTS = 10_000\n",
    "\n",
    "    def __init__(self):\n",
    "        self.access_token = os.environ['GIST_TOKEN']\n",
    "\n",
    "    def blob_generator(self):\n",
    "        for page in range(int(math.ceil(self.MAX_GISTS / self.PER_PAGE))):\n",
    "            params = {\n",
    "                'per_page': self.PER_PAGE,\n",
    "                'page': page,\n",
    "            }\n",
    "            headers = {\n",
    "                'Authorization': f'token {self.access_token}',\n",
    "                'accept': 'application/vnd.github.v3+json'\n",
    "            }\n",
    "            resp = requests.get(self.USER_URL, params=params, headers=headers)\n",
    "            self.latest_resp = resp\n",
    "            blobs = resp.json()\n",
    "            if blobs:\n",
    "                yield blobs\n",
    "            else:\n",
    "                break\n",
    "                \n",
    "    def get_list(self):\n",
    "        rec_list = []\n",
    "        for ll in self.blob_generator():\n",
    "            rec_list.extend(ll)\n",
    "        return rec_list\n",
    "    \n",
    "    @ezr.pickle_cached_container()\n",
    "    def ll(self):\n",
    "        return self.get_list()\n",
    "    \n",
    "    def get_parsed_blob_list(self):\n",
    "        keys = [\n",
    "            'url',\n",
    "            'description',\n",
    "            'created_at',\n",
    "            'updated_at',\n",
    "\n",
    "        ]\n",
    "        records = []\n",
    "        \n",
    "        # for item in self.blob_generator():\n",
    "        for item in self.ll[:3]:\n",
    "            record_template = {k: item[k] for k in keys}\n",
    "            for file in item['files'].values():\n",
    "                record = record_template.copy()\n",
    "                record['file'] = file['filename']\n",
    "                record['language'] = file.get('language', 'unkown')\n",
    "                record['file_url'] = file['raw_url']\n",
    "                record['size'] = file.get('size', 0)\n",
    "                records.append(record)\n",
    "                \n",
    "        return records\n",
    "\n",
    "\n",
    "\n",
    "gh = GithubBase()\n",
    "recs = gh.get_parsed_blob_list()\n",
    "print(type(recs))\n",
    "print(len(recs))"
   ]
  },
  {
   "cell_type": "code",
   "execution_count": 4,
   "metadata": {},
   "outputs": [],
   "source": [
    "# recs"
   ]
  },
  {
   "cell_type": "code",
   "execution_count": 11,
   "metadata": {},
   "outputs": [
    {
     "data": {
      "text/plain": [
       "requests.structures.CaseInsensitiveDict"
      ]
     },
     "execution_count": 11,
     "metadata": {},
     "output_type": "execute_result"
    }
   ],
   "source": [
    "type(resp.headers)"
   ]
  },
  {
   "cell_type": "code",
   "execution_count": null,
   "metadata": {},
   "outputs": [],
   "source": []
  },
  {
   "cell_type": "code",
   "execution_count": 37,
   "metadata": {},
   "outputs": [
    {
     "data": {
      "text/plain": [
       "{'url': 'https://api.github.com/gists/611b57470ca1522c4f3c496a7c967a84',\n",
       " 'description': 'Visidata Monstrosity',\n",
       " 'created_at': '2021-01-17T17:14:45Z',\n",
       " 'updated_at': '2021-01-17T19:55:10Z',\n",
       " 'file': 'monstrous_visidatarc.py',\n",
       " 'language': 'Python',\n",
       " 'file_url': 'https://gist.githubusercontent.com/robdmc/611b57470ca1522c4f3c496a7c967a84/raw/cb7e9a75c640e1c9b0c3bb39a2f6beda40b6f327/monstrous_visidatarc.py',\n",
       " 'size': 1999}"
      ]
     },
     "execution_count": 37,
     "metadata": {},
     "output_type": "execute_result"
    }
   ],
   "source": [
    "blob = resp.json()\n",
    "\n",
    "keys = [\n",
    "    'url',\n",
    "    'description',\n",
    "    'created_at',\n",
    "    'updated_at',\n",
    "    \n",
    "]\n",
    "records = []\n",
    "for item in blob:\n",
    "    record_template = {k: item[k] for k in keys}\n",
    "    for file in item['files'].values():\n",
    "        record = record_template.copy()\n",
    "#         print(file)\n",
    "        record['file'] = file['filename']\n",
    "        record['language'] = file.get('language', 'unkown')\n",
    "        record['file_url'] = file['raw_url']\n",
    "        record['size'] = file.get('size', 0)\n",
    "        records.append(record)\n",
    "#     pprint(item)\n",
    "\n",
    "rec = records[0]\n",
    "rec\n"
   ]
  },
  {
   "cell_type": "code",
   "execution_count": 16,
   "metadata": {},
   "outputs": [
    {
     "data": {
      "text/plain": [
       "{'url': 'https://api.github.com/gists/611b57470ca1522c4f3c496a7c967a84',\n",
       " 'forks_url': 'https://api.github.com/gists/611b57470ca1522c4f3c496a7c967a84/forks',\n",
       " 'commits_url': 'https://api.github.com/gists/611b57470ca1522c4f3c496a7c967a84/commits',\n",
       " 'id': '611b57470ca1522c4f3c496a7c967a84',\n",
       " 'node_id': 'MDQ6R2lzdDYxMWI1NzQ3MGNhMTUyMmM0ZjNjNDk2YTdjOTY3YTg0',\n",
       " 'git_pull_url': 'https://gist.github.com/611b57470ca1522c4f3c496a7c967a84.git',\n",
       " 'git_push_url': 'https://gist.github.com/611b57470ca1522c4f3c496a7c967a84.git',\n",
       " 'html_url': 'https://gist.github.com/611b57470ca1522c4f3c496a7c967a84',\n",
       " 'files': {'monstrous_visidatarc.py': {'filename': 'monstrous_visidatarc.py',\n",
       "   'type': 'application/x-python',\n",
       "   'language': 'Python',\n",
       "   'raw_url': 'https://gist.githubusercontent.com/robdmc/611b57470ca1522c4f3c496a7c967a84/raw/cb7e9a75c640e1c9b0c3bb39a2f6beda40b6f327/monstrous_visidatarc.py',\n",
       "   'size': 1999}},\n",
       " 'public': True,\n",
       " 'created_at': '2021-01-17T17:14:45Z',\n",
       " 'updated_at': '2021-01-17T19:55:10Z',\n",
       " 'description': 'Visidata Monstrosity',\n",
       " 'comments': 1,\n",
       " 'user': None,\n",
       " 'comments_url': 'https://api.github.com/gists/611b57470ca1522c4f3c496a7c967a84/comments',\n",
       " 'owner': {'login': 'robdmc',\n",
       "  'id': 417837,\n",
       "  'node_id': 'MDQ6VXNlcjQxNzgzNw==',\n",
       "  'avatar_url': 'https://avatars2.githubusercontent.com/u/417837?v=4',\n",
       "  'gravatar_id': '',\n",
       "  'url': 'https://api.github.com/users/robdmc',\n",
       "  'html_url': 'https://github.com/robdmc',\n",
       "  'followers_url': 'https://api.github.com/users/robdmc/followers',\n",
       "  'following_url': 'https://api.github.com/users/robdmc/following{/other_user}',\n",
       "  'gists_url': 'https://api.github.com/users/robdmc/gists{/gist_id}',\n",
       "  'starred_url': 'https://api.github.com/users/robdmc/starred{/owner}{/repo}',\n",
       "  'subscriptions_url': 'https://api.github.com/users/robdmc/subscriptions',\n",
       "  'organizations_url': 'https://api.github.com/users/robdmc/orgs',\n",
       "  'repos_url': 'https://api.github.com/users/robdmc/repos',\n",
       "  'events_url': 'https://api.github.com/users/robdmc/events{/privacy}',\n",
       "  'received_events_url': 'https://api.github.com/users/robdmc/received_events',\n",
       "  'type': 'User',\n",
       "  'site_admin': False},\n",
       " 'truncated': False}"
      ]
     },
     "execution_count": 16,
     "metadata": {},
     "output_type": "execute_result"
    }
   ],
   "source": [
    "blob[0]"
   ]
  },
  {
   "cell_type": "code",
   "execution_count": 2,
   "metadata": {},
   "outputs": [],
   "source": [
    "from visidata import SequenceSheet, BaseSheet, Path, Column, asyncthread, TableSheet\n",
    "from visidata import vd\n"
   ]
  },
  {
   "cell_type": "code",
   "execution_count": null,
   "metadata": {},
   "outputs": [],
   "source": []
  },
  {
   "cell_type": "code",
   "execution_count": null,
   "metadata": {},
   "outputs": [],
   "source": []
  },
  {
   "cell_type": "code",
   "execution_count": null,
   "metadata": {},
   "outputs": [],
   "source": []
  },
  {
   "cell_type": "code",
   "execution_count": 3,
   "metadata": {},
   "outputs": [],
   "source": [
    "\n",
    "# def rowtype(*args, **kwargs):\n",
    "class RobSheet(TableSheet):\n",
    "    _rowtype = object  # rowdef: list of values\n",
    "\n",
    "    \n",
    "\n",
    "    def iterload(self):\n",
    "        for nn in range(3):\n",
    "            yield  [nn, nn, nn]\n",
    "\n",
    "    #     @asyncthread\n",
    "    def reload(self):\n",
    "        self.columns = []\n",
    "        for col in ['a', 'b', 'c']:\n",
    "            self.addColumn(Column(col))\n",
    "        \n",
    "        self.rows = []\n",
    "        for row in self.iterload():\n",
    "            self.addRow(row)\n",
    "            \n",
    "        "
   ]
  },
  {
   "cell_type": "code",
   "execution_count": 4,
   "metadata": {},
   "outputs": [],
   "source": [
    "rs = RobSheet()\n",
    "t = rs.reload()\n",
    "\n",
    "# for col in rs.it:\n",
    "#     print(repr(col))\n"
   ]
  },
  {
   "cell_type": "code",
   "execution_count": 5,
   "metadata": {},
   "outputs": [
    {
     "name": "stdout",
     "output_type": "stream",
     "text": [
      "a\n",
      "b\n",
      "c\n"
     ]
    }
   ],
   "source": [
    "for col in rs.columns:\n",
    "    print(col.name)"
   ]
  },
  {
   "cell_type": "code",
   "execution_count": 6,
   "metadata": {},
   "outputs": [
    {
     "name": "stdout",
     "output_type": "stream",
     "text": [
      "a [0, 0, 0] <class 'list'>\n",
      "b [0, 0, 0] <class 'list'>\n",
      "c [0, 0, 0] <class 'list'>\n",
      "a [1, 1, 1] <class 'list'>\n",
      "b [1, 1, 1] <class 'list'>\n",
      "c [1, 1, 1] <class 'list'>\n",
      "a [2, 2, 2] <class 'list'>\n",
      "b [2, 2, 2] <class 'list'>\n",
      "c [2, 2, 2] <class 'list'>\n"
     ]
    }
   ],
   "source": [
    "for typedvals in rs.iterdispvals(format=False):\n",
    "\n",
    "    for col, val in typedvals.items():\n",
    "        print(col.name, val, type(val))"
   ]
  },
  {
   "cell_type": "code",
   "execution_count": 154,
   "metadata": {},
   "outputs": [],
   "source": [
    "vd.save_csv(Path('/tmp/jerry.csv'), rs)"
   ]
  },
  {
   "cell_type": "code",
   "execution_count": 161,
   "metadata": {},
   "outputs": [],
   "source": [
    "nr = rs.newRow()"
   ]
  },
  {
   "cell_type": "code",
   "execution_count": 162,
   "metadata": {},
   "outputs": [
    {
     "ename": "TypeError",
     "evalue": "unhashable type: 'list'",
     "output_type": "error",
     "traceback": [
      "\u001b[0;31m---------------------------------------------------------------------------\u001b[0m",
      "\u001b[0;31mTypeError\u001b[0m                                 Traceback (most recent call last)",
      "\u001b[0;32m<ipython-input-162-3554923aac7e>\u001b[0m in \u001b[0;36m<module>\u001b[0;34m\u001b[0m\n\u001b[0;32m----> 1\u001b[0;31m \u001b[0mnr\u001b[0m\u001b[0;34m[\u001b[0m\u001b[0;34m[\u001b[0m\u001b[0;34m'a'\u001b[0m\u001b[0;34m,\u001b[0m \u001b[0;34m'b'\u001b[0m\u001b[0;34m]\u001b[0m\u001b[0;34m]\u001b[0m\u001b[0;34m\u001b[0m\u001b[0;34m\u001b[0m\u001b[0m\n\u001b[0m",
      "\u001b[0;31mTypeError\u001b[0m: unhashable type: 'list'"
     ]
    }
   ],
   "source": [
    "nr[['a', 'b']]"
   ]
  },
  {
   "cell_type": "code",
   "execution_count": 160,
   "metadata": {},
   "outputs": [
    {
     "data": {
      "text/plain": [
       "BasicRow(<function visidata.sheets.BasicRow.__init__.<locals>.<lambda>()>,\n",
       "         {'rob': None})"
      ]
     },
     "execution_count": 160,
     "metadata": {},
     "output_type": "execute_result"
    }
   ],
   "source": [
    "nr"
   ]
  },
  {
   "cell_type": "code",
   "execution_count": null,
   "metadata": {},
   "outputs": [],
   "source": []
  }
 ],
 "metadata": {
  "kernelspec": {
   "display_name": "Python 3",
   "language": "python",
   "name": "python3"
  },
  "language_info": {
   "codemirror_mode": {
    "name": "ipython",
    "version": 3
   },
   "file_extension": ".py",
   "mimetype": "text/x-python",
   "name": "python",
   "nbconvert_exporter": "python",
   "pygments_lexer": "ipython3",
   "version": "3.8.6"
  }
 },
 "nbformat": 4,
 "nbformat_minor": 4
}
